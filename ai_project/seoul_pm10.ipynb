{
 "cells": [
  {
   "cell_type": "code",
   "execution_count": 15,
   "metadata": {},
   "outputs": [],
   "source": [
    "import numpy as np\n",
    "import pandas as pd\n",
    "import matplotlib.pyplot as plt\n",
    "from sklearn.preprocessing import MinMaxScaler\n",
    "from tensorflow.keras.models import Sequential\n",
    "from tensorflow.keras.layers import GRU, Dense\n",
    "from sklearn.metrics import mean_squared_error\n",
    "\n",
    "file_path = \"dataset/seoul_pm10.csv\"\n",
    "data = pd.read_csv(file_path, encoding=\"cp949\")\n",
    "data['date'] = pd.to_datetime(data[\"date\"]) #데이트 타입으로 변환\n",
    "data = data.sort_values(by='date') #날짜순으로 정렬\n",
    "data = data.dropna(subset=['pm10']) #pm10 컬럼이랑 pm2.5컬럼 결측치 제거\n",
    "\n",
    "#데이터 미리 분리(왜인지 모름)\n",
    "target = 'pm10'\n",
    "X = data[target].values"
   ]
  },
  {
   "cell_type": "code",
   "execution_count": 16,
   "metadata": {},
   "outputs": [],
   "source": [
    "scaler = MinMaxScaler()#데이터 정규화\n",
    "X_scaled = scaler.fit_transform(X.reshape(-1,1)) #2차원 배열 형태로 변환"
   ]
  },
  {
   "cell_type": "code",
   "execution_count": 17,
   "metadata": {},
   "outputs": [],
   "source": [
    "#시계열 데이터 생성\n",
    "def create_time_series_data(X, time_step=24):\n",
    "    Xs,ys = [], []\n",
    "    for i in range(len(X) - time_step):\n",
    "        Xs.append(X[i:i + time_step])\n",
    "        ys.append(X[i + time_step])\n",
    "    return np.array(Xs), np.array(ys)"
   ]
  },
  {
   "cell_type": "code",
   "execution_count": 18,
   "metadata": {},
   "outputs": [],
   "source": [
    "time_steps = 24 #하루기준\n",
    "X_seq, y_seq = create_time_series_data(X_scaled, time_steps) #데이터 생성호출"
   ]
  },
  {
   "cell_type": "code",
   "execution_count": 19,
   "metadata": {},
   "outputs": [],
   "source": [
    "#데이터 8:2 분할\n",
    "X_train, X_test = X_seq[:int(len(X_seq) * 0.8)] , X_seq[int(len(X_seq) * 0.8):]\n",
    "y_train, y_test = y_seq[:int(len(y_seq) * 0.8)] , y_seq[int(len(y_seq) * 0.8):]"
   ]
  },
  {
   "cell_type": "code",
   "execution_count": 20,
   "metadata": {},
   "outputs": [
    {
     "name": "stderr",
     "output_type": "stream",
     "text": [
      "c:\\python\\Lib\\site-packages\\keras\\src\\layers\\rnn\\rnn.py:200: UserWarning: Do not pass an `input_shape`/`input_dim` argument to a layer. When using Sequential models, prefer using an `Input(shape)` object as the first layer in the model instead.\n",
      "  super().__init__(**kwargs)\n"
     ]
    }
   ],
   "source": [
    "#GRU 모델 정의\n",
    "model = Sequential()\n",
    "model.add(GRU(50, activation=\"tanh\", input_shape=(time_steps, 1))) #gru 레이어 추가\n",
    "model.add(Dense(1))"
   ]
  },
  {
   "cell_type": "code",
   "execution_count": 21,
   "metadata": {},
   "outputs": [
    {
     "name": "stdout",
     "output_type": "stream",
     "text": [
      "Epoch 1/20\n",
      "\u001b[1m5571/5571\u001b[0m \u001b[32m━━━━━━━━━━━━━━━━━━━━\u001b[0m\u001b[37m\u001b[0m \u001b[1m21s\u001b[0m 4ms/step - loss: 2.2728e-04 - val_loss: 2.5586e-04\n",
      "Epoch 2/20\n",
      "\u001b[1m5571/5571\u001b[0m \u001b[32m━━━━━━━━━━━━━━━━━━━━\u001b[0m\u001b[37m\u001b[0m \u001b[1m20s\u001b[0m 4ms/step - loss: 1.7294e-04 - val_loss: 2.4817e-04\n",
      "Epoch 3/20\n",
      "\u001b[1m5571/5571\u001b[0m \u001b[32m━━━━━━━━━━━━━━━━━━━━\u001b[0m\u001b[37m\u001b[0m \u001b[1m20s\u001b[0m 4ms/step - loss: 1.7136e-04 - val_loss: 2.4989e-04\n",
      "Epoch 4/20\n",
      "\u001b[1m5571/5571\u001b[0m \u001b[32m━━━━━━━━━━━━━━━━━━━━\u001b[0m\u001b[37m\u001b[0m \u001b[1m20s\u001b[0m 4ms/step - loss: 1.7066e-04 - val_loss: 2.5166e-04\n",
      "Epoch 5/20\n",
      "\u001b[1m5571/5571\u001b[0m \u001b[32m━━━━━━━━━━━━━━━━━━━━\u001b[0m\u001b[37m\u001b[0m \u001b[1m20s\u001b[0m 4ms/step - loss: 1.6917e-04 - val_loss: 2.4967e-04\n",
      "Epoch 6/20\n",
      "\u001b[1m5571/5571\u001b[0m \u001b[32m━━━━━━━━━━━━━━━━━━━━\u001b[0m\u001b[37m\u001b[0m \u001b[1m19s\u001b[0m 3ms/step - loss: 1.6788e-04 - val_loss: 2.4534e-04\n",
      "Epoch 7/20\n",
      "\u001b[1m5571/5571\u001b[0m \u001b[32m━━━━━━━━━━━━━━━━━━━━\u001b[0m\u001b[37m\u001b[0m \u001b[1m20s\u001b[0m 4ms/step - loss: 1.6984e-04 - val_loss: 2.4802e-04\n",
      "Epoch 8/20\n",
      "\u001b[1m5571/5571\u001b[0m \u001b[32m━━━━━━━━━━━━━━━━━━━━\u001b[0m\u001b[37m\u001b[0m \u001b[1m20s\u001b[0m 4ms/step - loss: 1.7182e-04 - val_loss: 2.5768e-04\n",
      "Epoch 9/20\n",
      "\u001b[1m5571/5571\u001b[0m \u001b[32m━━━━━━━━━━━━━━━━━━━━\u001b[0m\u001b[37m\u001b[0m \u001b[1m20s\u001b[0m 4ms/step - loss: 1.6660e-04 - val_loss: 2.4724e-04\n",
      "Epoch 10/20\n",
      "\u001b[1m5571/5571\u001b[0m \u001b[32m━━━━━━━━━━━━━━━━━━━━\u001b[0m\u001b[37m\u001b[0m \u001b[1m21s\u001b[0m 4ms/step - loss: 1.7386e-04 - val_loss: 2.4833e-04\n",
      "Epoch 11/20\n",
      "\u001b[1m5571/5571\u001b[0m \u001b[32m━━━━━━━━━━━━━━━━━━━━\u001b[0m\u001b[37m\u001b[0m \u001b[1m20s\u001b[0m 3ms/step - loss: 1.6718e-04 - val_loss: 2.5147e-04\n",
      "Epoch 12/20\n",
      "\u001b[1m5571/5571\u001b[0m \u001b[32m━━━━━━━━━━━━━━━━━━━━\u001b[0m\u001b[37m\u001b[0m \u001b[1m19s\u001b[0m 3ms/step - loss: 1.6805e-04 - val_loss: 2.6601e-04\n",
      "Epoch 13/20\n",
      "\u001b[1m5571/5571\u001b[0m \u001b[32m━━━━━━━━━━━━━━━━━━━━\u001b[0m\u001b[37m\u001b[0m \u001b[1m21s\u001b[0m 4ms/step - loss: 1.6941e-04 - val_loss: 2.5886e-04\n",
      "Epoch 14/20\n",
      "\u001b[1m5571/5571\u001b[0m \u001b[32m━━━━━━━━━━━━━━━━━━━━\u001b[0m\u001b[37m\u001b[0m \u001b[1m20s\u001b[0m 4ms/step - loss: 1.6829e-04 - val_loss: 2.9649e-04\n",
      "Epoch 15/20\n",
      "\u001b[1m5571/5571\u001b[0m \u001b[32m━━━━━━━━━━━━━━━━━━━━\u001b[0m\u001b[37m\u001b[0m \u001b[1m20s\u001b[0m 4ms/step - loss: 1.6697e-04 - val_loss: 2.5394e-04\n",
      "Epoch 16/20\n",
      "\u001b[1m5571/5571\u001b[0m \u001b[32m━━━━━━━━━━━━━━━━━━━━\u001b[0m\u001b[37m\u001b[0m \u001b[1m20s\u001b[0m 4ms/step - loss: 1.6532e-04 - val_loss: 2.5276e-04\n",
      "Epoch 17/20\n",
      "\u001b[1m5571/5571\u001b[0m \u001b[32m━━━━━━━━━━━━━━━━━━━━\u001b[0m\u001b[37m\u001b[0m \u001b[1m21s\u001b[0m 4ms/step - loss: 1.6541e-04 - val_loss: 2.5592e-04\n",
      "Epoch 18/20\n",
      "\u001b[1m5571/5571\u001b[0m \u001b[32m━━━━━━━━━━━━━━━━━━━━\u001b[0m\u001b[37m\u001b[0m \u001b[1m20s\u001b[0m 4ms/step - loss: 1.6769e-04 - val_loss: 2.6170e-04\n",
      "Epoch 19/20\n",
      "\u001b[1m5571/5571\u001b[0m \u001b[32m━━━━━━━━━━━━━━━━━━━━\u001b[0m\u001b[37m\u001b[0m \u001b[1m20s\u001b[0m 4ms/step - loss: 1.6825e-04 - val_loss: 2.5583e-04\n",
      "Epoch 20/20\n",
      "\u001b[1m5571/5571\u001b[0m \u001b[32m━━━━━━━━━━━━━━━━━━━━\u001b[0m\u001b[37m\u001b[0m \u001b[1m20s\u001b[0m 4ms/step - loss: 1.6703e-04 - val_loss: 2.5494e-04\n"
     ]
    }
   ],
   "source": [
    "model.compile(optimizer='adam', loss='mse')\n",
    "\n",
    "history = model.fit(X_train,y_train, epochs=20, batch_size=32, validation_data=(X_test,y_test), verbose=1)"
   ]
  },
  {
   "cell_type": "code",
   "execution_count": null,
   "metadata": {},
   "outputs": [],
   "source": [
    "#평가 예측하기\n",
    "y_pred = model.predict(X_test)\n",
    "y_pred_inverse = scaler.inverse_transform(y_pred) #역정규화\n",
    "y_test_inverse = scaler.inverse_transform(y_test.reshape(-1,1)) #실제값 역정규화"
   ]
  },
  {
   "cell_type": "code",
   "execution_count": null,
   "metadata": {},
   "outputs": [],
   "source": [
    "mse = mean_squared_error(y_test_inverse, y_pred_inverse)\n",
    "rmse = np.sqrt(mean_squared_error(y_test_inverse, y_pred_inverse))\n",
    "print(f\"RMSE: {rmse:.2f}\")\n",
    "print(f\"MSE: {mse:.2f}\")"
   ]
  },
  {
   "cell_type": "code",
   "execution_count": null,
   "metadata": {},
   "outputs": [],
   "source": [
    "plt.figure(figsize=(14,6))\n",
    "plt.plot(y_test_inverse[:100], label=\"실제 PM10 농도\", color=\"blue\")\n",
    "plt.plot(y_pred_inverse[:100], label=\"예측 PM10 농도\", color=\"red\")\n",
    "plt.title(\"PM 예측 결과 (GRU모델)\")\n",
    "plt.xlabel(\"샘플 (시간순서)\")\n",
    "plt.ylabel(\"pm10 농도\")\n",
    "plt.legend()\n",
    "plt.grid()\n",
    "plt.show()\n"
   ]
  }
 ],
 "metadata": {
  "kernelspec": {
   "display_name": "Python 3",
   "language": "python",
   "name": "python3"
  },
  "language_info": {
   "codemirror_mode": {
    "name": "ipython",
    "version": 3
   },
   "file_extension": ".py",
   "mimetype": "text/x-python",
   "name": "python",
   "nbconvert_exporter": "python",
   "pygments_lexer": "ipython3",
   "version": "3.12.8"
  }
 },
 "nbformat": 4,
 "nbformat_minor": 2
}
